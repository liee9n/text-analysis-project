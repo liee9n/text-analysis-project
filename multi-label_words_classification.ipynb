{
 "cells": [
  {
   "cell_type": "code",
   "execution_count": 1,
   "id": "19ffc646",
   "metadata": {},
   "outputs": [
    {
     "name": "stderr",
     "output_type": "stream",
     "text": [
      "Using TensorFlow backend.\n",
      "/opt/anaconda3/envs/gensim_env/lib/python3.7/site-packages/gensim/similarities/__init__.py:15: UserWarning: The gensim.similarities.levenshtein submodule is disabled, because the optional Levenshtein package <https://pypi.org/project/python-Levenshtein/> is unavailable. Install Levenhstein (e.g. `pip install python-Levenshtein`) to suppress this warning.\n",
      "  warnings.warn(msg)\n"
     ]
    }
   ],
   "source": [
    "from skmultilearn.problem_transform import ClassifierChain\n",
    "from sklearn.linear_model import LogisticRegression\n",
    "from sklearn.datasets import make_multilabel_classification\n",
    "from sklearn.datasets import fetch_openml\n",
    "from sklearn import preprocessing\n",
    "from sklearn import model_selection\n",
    "from sklearn.multiclass import OneVsRestClassifier\n",
    "from sklearn.metrics import jaccard_score\n",
    "\n",
    "from keras.preprocessing import text, sequence\n",
    "\n",
    "from gensim.models import word2vec\n",
    "\n",
    "import pandas\n",
    "import numpy as np\n",
    "from openpyxl import load_workbook"
   ]
  },
  {
   "cell_type": "code",
   "execution_count": 2,
   "id": "a3537e63",
   "metadata": {},
   "outputs": [],
   "source": [
    "model = word2vec.Word2Vec.load(\"./model | vec/word2vec.model\")"
   ]
  },
  {
   "cell_type": "code",
   "execution_count": 21,
   "id": "6efb26f0",
   "metadata": {},
   "outputs": [],
   "source": [
    "def print_category(a_list):\n",
    "    if a_list[0][0] == 1:\n",
    "        print('生活時事\\n')\n",
    "    if a_list[0][1] == 1:\n",
    "        print('人文藝術\\n')\n",
    "    if a_list[0][2] == 1:\n",
    "        print('體能運動\\n')\n",
    "    if a_list[0][3] == 1:\n",
    "        print('設計手作\\n')\n",
    "    if a_list[0][4] == 1:\n",
    "        print('影音創作\\n')\n",
    "    if a_list[0][5] == 1:\n",
    "        print('科技程式\\n')\n",
    "    if a_list[0][6] == 1:\n",
    "        print('商業經營\\n')\n",
    "    if a_list[0][7] == 1:\n",
    "        print('國際語言\\n')\n",
    "    if a_list[0][8] == 1:\n",
    "        print('其他')"
   ]
  },
  {
   "cell_type": "code",
   "execution_count": 18,
   "id": "6841ce6f",
   "metadata": {},
   "outputs": [
    {
     "data": {
      "text/plain": [
       "ClassifierChain(classifier=LogisticRegression(), require_dense=[True, True])"
      ]
     },
     "execution_count": 18,
     "metadata": {},
     "output_type": "execute_result"
    }
   ],
   "source": [
    "classifier = ClassifierChain(LogisticRegression())\n",
    "classifier.fit(embedding_matrix, train_y)\n",
    "# predictions = classifier.predict(x_test)"
   ]
  },
  {
   "cell_type": "code",
   "execution_count": 3,
   "id": "606e03a5",
   "metadata": {},
   "outputs": [],
   "source": [
    "# training preprocessor for multilabel\n",
    "\n",
    "wb = load_workbook('./crawler/crawler_result_forchuk_label.xlsx')\n",
    "sheet = wb[\"sheet2\"]\n",
    "\n",
    "label_1, label_2, label_3, label_4, label_5, label_6, label_7, label_8, label_9, texts, vecs = [], [], [], [], [], [], [], [], [], [], []\n",
    "trainDF = pandas.DataFrame()\n",
    "trainDF_attr = pandas.DataFrame()\n",
    "\n",
    "for i in range(2, 4781):\n",
    "    try:\n",
    "        vec = model.wv.get_vector(str(sheet.cell(row = i, column = 1).value))\n",
    "        texts.append(sheet.cell(row = i, column = 1).value)\n",
    "        vecs.append(vec)\n",
    "        label_1.append(sheet.cell(row = i, column = 2).value)\n",
    "        label_2.append(sheet.cell(row = i, column = 3).value)\n",
    "        label_3.append(sheet.cell(row = i, column = 4).value)\n",
    "        label_4.append(sheet.cell(row = i, column = 5).value)\n",
    "        label_5.append(sheet.cell(row = i, column = 6).value)\n",
    "        label_6.append(sheet.cell(row = i, column = 7).value)\n",
    "        label_7.append(sheet.cell(row = i, column = 8).value)\n",
    "        label_8.append(sheet.cell(row = i, column = 9).value)\n",
    "        label_9.append(sheet.cell(row = i, column = 10).value)\n",
    "    except:\n",
    "        pass\n",
    "\n",
    "for i in range(250):\n",
    "    b = []\n",
    "    for j in range(len(vecs)):\n",
    "        b.append(vecs[j][i])\n",
    "    trainDF_attr['ATTR_' + str(i+1)] = b\n",
    "\n",
    "trainDF['label_1'] = label_1\n",
    "trainDF['label_2'] = label_2\n",
    "trainDF['label_3'] = label_3\n",
    "trainDF['label_4'] = label_4\n",
    "trainDF['label_5'] = label_5\n",
    "trainDF['label_6'] = label_6\n",
    "trainDF['label_7'] = label_7\n",
    "trainDF['label_8'] = label_8\n",
    "trainDF['label_9'] = label_9"
   ]
  },
  {
   "cell_type": "code",
   "execution_count": 4,
   "id": "1397fe82",
   "metadata": {},
   "outputs": [],
   "source": [
    "Y = pandas.concat([trainDF['label_1'], trainDF['label_2'], trainDF['label_3'], trainDF['label_4'], trainDF['label_5'], trainDF['label_6'], trainDF['label_7'], trainDF['label_8'], trainDF['label_9']], axis = 1)\n",
    "X = trainDF_attr\n",
    "train_x, test_x, train_y, test_y = model_selection.train_test_split(X, Y)"
   ]
  },
  {
   "cell_type": "code",
   "execution_count": 5,
   "id": "96cd371c",
   "metadata": {
    "scrolled": true
   },
   "outputs": [
    {
     "name": "stderr",
     "output_type": "stream",
     "text": [
      "/opt/anaconda3/envs/gensim_env/lib/python3.7/site-packages/sklearn/linear_model/_logistic.py:818: ConvergenceWarning: lbfgs failed to converge (status=1):\n",
      "STOP: TOTAL NO. of ITERATIONS REACHED LIMIT.\n",
      "\n",
      "Increase the number of iterations (max_iter) or scale the data as shown in:\n",
      "    https://scikit-learn.org/stable/modules/preprocessing.html\n",
      "Please also refer to the documentation for alternative solver options:\n",
      "    https://scikit-learn.org/stable/modules/linear_model.html#logistic-regression\n",
      "  extra_warning_msg=_LOGISTIC_SOLVER_CONVERGENCE_MSG,\n",
      "/opt/anaconda3/envs/gensim_env/lib/python3.7/site-packages/sklearn/linear_model/_logistic.py:818: ConvergenceWarning: lbfgs failed to converge (status=1):\n",
      "STOP: TOTAL NO. of ITERATIONS REACHED LIMIT.\n",
      "\n",
      "Increase the number of iterations (max_iter) or scale the data as shown in:\n",
      "    https://scikit-learn.org/stable/modules/preprocessing.html\n",
      "Please also refer to the documentation for alternative solver options:\n",
      "    https://scikit-learn.org/stable/modules/linear_model.html#logistic-regression\n",
      "  extra_warning_msg=_LOGISTIC_SOLVER_CONVERGENCE_MSG,\n",
      "/opt/anaconda3/envs/gensim_env/lib/python3.7/site-packages/sklearn/linear_model/_logistic.py:818: ConvergenceWarning: lbfgs failed to converge (status=1):\n",
      "STOP: TOTAL NO. of ITERATIONS REACHED LIMIT.\n",
      "\n",
      "Increase the number of iterations (max_iter) or scale the data as shown in:\n",
      "    https://scikit-learn.org/stable/modules/preprocessing.html\n",
      "Please also refer to the documentation for alternative solver options:\n",
      "    https://scikit-learn.org/stable/modules/linear_model.html#logistic-regression\n",
      "  extra_warning_msg=_LOGISTIC_SOLVER_CONVERGENCE_MSG,\n",
      "/opt/anaconda3/envs/gensim_env/lib/python3.7/site-packages/sklearn/linear_model/_logistic.py:818: ConvergenceWarning: lbfgs failed to converge (status=1):\n",
      "STOP: TOTAL NO. of ITERATIONS REACHED LIMIT.\n",
      "\n",
      "Increase the number of iterations (max_iter) or scale the data as shown in:\n",
      "    https://scikit-learn.org/stable/modules/preprocessing.html\n",
      "Please also refer to the documentation for alternative solver options:\n",
      "    https://scikit-learn.org/stable/modules/linear_model.html#logistic-regression\n",
      "  extra_warning_msg=_LOGISTIC_SOLVER_CONVERGENCE_MSG,\n",
      "/opt/anaconda3/envs/gensim_env/lib/python3.7/site-packages/sklearn/linear_model/_logistic.py:818: ConvergenceWarning: lbfgs failed to converge (status=1):\n",
      "STOP: TOTAL NO. of ITERATIONS REACHED LIMIT.\n",
      "\n",
      "Increase the number of iterations (max_iter) or scale the data as shown in:\n",
      "    https://scikit-learn.org/stable/modules/preprocessing.html\n",
      "Please also refer to the documentation for alternative solver options:\n",
      "    https://scikit-learn.org/stable/modules/linear_model.html#logistic-regression\n",
      "  extra_warning_msg=_LOGISTIC_SOLVER_CONVERGENCE_MSG,\n",
      "/opt/anaconda3/envs/gensim_env/lib/python3.7/site-packages/sklearn/linear_model/_logistic.py:818: ConvergenceWarning: lbfgs failed to converge (status=1):\n",
      "STOP: TOTAL NO. of ITERATIONS REACHED LIMIT.\n",
      "\n",
      "Increase the number of iterations (max_iter) or scale the data as shown in:\n",
      "    https://scikit-learn.org/stable/modules/preprocessing.html\n",
      "Please also refer to the documentation for alternative solver options:\n",
      "    https://scikit-learn.org/stable/modules/linear_model.html#logistic-regression\n",
      "  extra_warning_msg=_LOGISTIC_SOLVER_CONVERGENCE_MSG,\n"
     ]
    },
    {
     "name": "stdout",
     "output_type": "stream",
     "text": [
      "0.36599009900990104\n"
     ]
    },
    {
     "name": "stderr",
     "output_type": "stream",
     "text": [
      "/opt/anaconda3/envs/gensim_env/lib/python3.7/site-packages/sklearn/linear_model/_logistic.py:818: ConvergenceWarning: lbfgs failed to converge (status=1):\n",
      "STOP: TOTAL NO. of ITERATIONS REACHED LIMIT.\n",
      "\n",
      "Increase the number of iterations (max_iter) or scale the data as shown in:\n",
      "    https://scikit-learn.org/stable/modules/preprocessing.html\n",
      "Please also refer to the documentation for alternative solver options:\n",
      "    https://scikit-learn.org/stable/modules/linear_model.html#logistic-regression\n",
      "  extra_warning_msg=_LOGISTIC_SOLVER_CONVERGENCE_MSG,\n"
     ]
    }
   ],
   "source": [
    "base_lr = LogisticRegression()\n",
    "ovr = OneVsRestClassifier(base_lr)\n",
    "ovr.fit(train_x, train_y)\n",
    "Y_pred_ovr = ovr.predict(test_x)\n",
    "\n",
    "ovr_jaccard_score = jaccard_score(test_y, Y_pred_ovr, average=\"samples\")\n",
    "print(ovr_jaccard_score)"
   ]
  }
 ],
 "metadata": {
  "kernelspec": {
   "display_name": "Python 3 (ipykernel)",
   "language": "python",
   "name": "python3"
  },
  "language_info": {
   "codemirror_mode": {
    "name": "ipython",
    "version": 3
   },
   "file_extension": ".py",
   "mimetype": "text/x-python",
   "name": "python",
   "nbconvert_exporter": "python",
   "pygments_lexer": "ipython3",
   "version": "3.9.7"
  }
 },
 "nbformat": 4,
 "nbformat_minor": 5
}
